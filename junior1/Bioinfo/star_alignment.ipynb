{
 "cells": [
  {
   "cell_type": "code",
   "execution_count": 1,
   "id": "8ab03c4a",
   "metadata": {},
   "outputs": [],
   "source": [
    "def make_matrix(sizex, sizey):\n",
    "    \"\"\"Creates a sizex by sizey matrix filled with zeros.\"\"\"\n",
    "    return [[0]*sizey for i in range(sizex)]"
   ]
  },
  {
   "cell_type": "code",
   "execution_count": 2,
   "id": "6b56eb1a",
   "metadata": {},
   "outputs": [],
   "source": [
    "class ScoreParam:\n",
    "    \"\"\"The parameters for an alignment scoring function\"\"\"\n",
    "    def __init__(self, gap, match, mismatch):\n",
    "        self.gap = gap\n",
    "        self.match = match\n",
    "        self.mismatch = mismatch"
   ]
  },
  {
   "cell_type": "code",
   "execution_count": 3,
   "id": "a29f7303",
   "metadata": {},
   "outputs": [],
   "source": [
    "def global_align(x, y, score=ScoreParam(-1, 1, 0)):\n",
    "    \"\"\"Do a global alignment between x and y\"\"\"\n",
    "    # create a zero-filled matrix\n",
    "    A = make_matrix(len(x) + 1, len(y) + 1)\n",
    "\n",
    "    # fill the first column and first row\n",
    "    for i in range(1, len(x)+1):\n",
    "        A[i][0] = A[i-1][0] + score.gap\n",
    "    for i in range(1, len(y)+1):\n",
    "        A[0][i] = A[0][i-1] + score.gap\n",
    "\n",
    "    # fill in A in the right order\n",
    "    for i in range(1, len(x)+1):\n",
    "        for j in range(1, len(y)+1):\n",
    "            \n",
    "            # the local alignment recurrance rule:\n",
    "            A[i][j] = max(\n",
    "                A[i][j-1] + score.gap,\n",
    "                A[i-1][j] + score.gap,\n",
    "                A[i-1][j-1] + (score.match if x[i-1] == y[j-1] else score.mismatch),\n",
    "            )\n",
    "            \n",
    "    # return the matrix\n",
    "    return A\n",
    "    "
   ]
  },
  {
   "cell_type": "code",
   "execution_count": 4,
   "id": "3861274d",
   "metadata": {},
   "outputs": [],
   "source": [
    "def star_align(seqlist, score):\n",
    "    \"\"\"Do global alignment pairwise and make a matrix\"\"\"\n",
    "    n = len(seqlist)\n",
    "    A = make_matrix(n, n)\n",
    "    \n",
    "    # fill A\n",
    "    for i in range(n):\n",
    "        for j in range(i, n):\n",
    "            a = global_align(seqlist[i], seqlist[j], score)\n",
    "            A[i][j] = a[-1][-1]\n",
    "            A[j][i] = a[-1][-1]\n",
    "    for i in range(n):\n",
    "        A[i][i] = 0\n",
    "    return A\n",
    "            "
   ]
  },
  {
   "cell_type": "code",
   "execution_count": 5,
   "id": "bd885ed4",
   "metadata": {},
   "outputs": [
    {
     "data": {
      "text/plain": [
       "[[0, 2, -2, 2, 2],\n",
       " [2, 0, 1, 0, 0],\n",
       " [-2, 1, 0, -1, -2],\n",
       " [2, 0, -1, 0, 4],\n",
       " [2, 0, -2, 4, 0]]"
      ]
     },
     "execution_count": 5,
     "metadata": {},
     "output_type": "execute_result"
    }
   ],
   "source": [
    "c = star_align(['AGTCCT', 'AGCCA', 'GCAA', 'ATCAT', 'ATTCAT'], score=ScoreParam(-1, 1, -1))\n",
    "c"
   ]
  },
  {
   "cell_type": "code",
   "execution_count": null,
   "id": "432fb26a",
   "metadata": {},
   "outputs": [],
   "source": []
  }
 ],
 "metadata": {
  "kernelspec": {
   "display_name": "Python 3.6.8 64-bit",
   "language": "python",
   "name": "python3"
  },
  "language_info": {
   "codemirror_mode": {
    "name": "ipython",
    "version": 3
   },
   "file_extension": ".py",
   "mimetype": "text/x-python",
   "name": "python",
   "nbconvert_exporter": "python",
   "pygments_lexer": "ipython3",
   "version": "3.9.6"
  },
  "vscode": {
   "interpreter": {
    "hash": "31f2aee4e71d21fbe5cf8b01ff0e069b9275f58929596ceb00d14d90e3e16cd6"
   }
  }
 },
 "nbformat": 4,
 "nbformat_minor": 5
}
